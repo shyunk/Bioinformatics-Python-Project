{
 "cells": [
  {
   "cell_type": "markdown",
   "metadata": {},
   "source": [
    "# [Scikit-learn : Machine Learning In Python](http://scikit-learn.org/stable/index.html)\n",
    "\n",
    "\n",
    "# Decision Trees : Algorithm and Implementation\n",
    "\n",
    "### [Iris dataset example](http://scikit-learn.org/stable/modules/tree.html#tree)\n",
    "### Installation : You'll need to install 3 things : sklearn, graphviz, python-graphviz\n",
    "\n",
    "## [It's a Nonparametric Algorithm](https://machinelearningmastery.com/parametric-and-nonparametric-machine-learning-algorithms/)\n",
    "\n",
    "### Parametric Algorithm\n",
    "*A learning model that summarizes data with a set of parameters of fixed size (independent of the number of training examples) is called a parametric model. No matter how much data you throw at a parametric model, it won’t change its mind about how many parameters it needs.*\n",
    "\n",
    "— Artificial Intelligence: A Modern Approach, page 737\n",
    "\n",
    "\n",
    "\n",
    "#### 2  Steps of Parametric Algorithm\n",
    "1. Select a form for the function.\n",
    "2. Learn the coefficients for the function from the training data.\n",
    "An easy to understand functional form for the mapping function is a line, as is used in linear regression:\n",
    "\n",
    "b0 + b1*x1 + b2*x2 = 0\n",
    "\n",
    "#### Benefits of Parametric Machine Learning Algorithms:\n",
    "\n",
    "* Simpler: These methods are easier to understand and interpret results.\n",
    "* Speed: Parametric models are very fast to learn from data.\n",
    "* Less Data: They do not require as much training data and can work well even if the fit to the data is not perfect.\n",
    "* Limitations of Parametric Machine Learning Algorithms:\n",
    "\n",
    "#### Constraints of Parametric Machine Learning Algorithms:\n",
    "\n",
    "* Constrained: By choosing a functional form these methods are highly constrained to the specified form.\n",
    "* Limited Complexity: The methods are more suited to simpler problems.\n",
    "* Poor Fit: In practice the methods are unlikely to match the underlying mapping function.\n",
    "\n",
    "### Nonparametric Algorithm\n",
    "Algorithms that do not make strong assumptions about the form of the mapping function are called nonparametric machine learning algorithms. By not making assumptions, they are free to learn any functional form from the training data.\n",
    "\n",
    "*Nonparametric methods are good when you have a lot of data and no prior knowledge, and when you don’t want to worry too much about choosing just the right features.*\n",
    "\n",
    "— Artificial Intelligence: A Modern Approach, page 757\n",
    "\n",
    "* k-Nearest Neighbors\n",
    "* Decision Trees like CART and C4.5\n",
    "* Support Vector Machines\n",
    "* Benefits of Nonparametric Machine Learning Algorithms:\n",
    "\n",
    "#### Benefits of Nonparametric Machine Learning Algorithms:\n",
    "* Flexibility: Capable of fitting a large number of functional forms.\n",
    "* Power: No assumptions (or weak assumptions) about the underlying function.\n",
    "* Performance: Can result in higher performance models for prediction.\n",
    "\n",
    "#### Constraints of Nonparametric Machine Learning Algorithms:\n",
    "\n",
    "* More data: Require a lot more training data to estimate the mapping function.\n",
    "* Slower: A lot slower to train as they often have far more parameters to train.\n",
    "* Overfitting: More of a risk to overfit the training data and it is harder to explain why specific predictions are made.\n",
    "\n",
    "## Attribute selection : Gini Index\n",
    "[SOURCE](https://medium.com/deep-math-machine-learning-ai/chapter-4-decision-trees-algorithms-b93975f7a1f1)\n",
    "\n",
    "1. CART (Classification and Regression Trees) → uses Gini Index(Classification) as metric.\n",
    "2. ID3 (Iterative Dichotomiser 3) → uses Entropy function and Information gain as metrics.\n",
    "\n",
    "### Gini Index (aka how mixed is the baby node)  is a cost function that evaluates the splits of the nodes\n",
    "\n",
    "How do we choose the best attribite? What attribute is gonna go at the top of the tree?\n",
    "Entropy \n",
    "\n",
    "Gini (binary)= 1 — P^2(Target=0) — P^2(Target=1)\n",
    "\n",
    "#### Binary Gini index ![alt text](https://cdn-images-1.medium.com/max/800/1*-x-0SWbCIq8-f5VXSzGs3w.png)\n",
    "pt : Proportion of observations with target variable value t. In Binary t takes value 0 and 1.\n",
    "\n",
    "#### K Gini index ![alt text](http://dni-institute.in/blogs/wp-content/uploads/2015/07/Gini-Index-Target-k.png)\n",
    "Maximun for K targets = 1 - 1/k\n",
    "\n",
    "#### Use the Gini index to align attributes ![alt text](https://cdn-images-1.medium.com/max/800/1*F_AmlAXtZRNP3lRupjX24A.jpeg)\n",
    "\n"
   ]
  },
  {
   "cell_type": "markdown",
   "metadata": {},
   "source": [
    "## Import real dataset \n",
    "\n",
    "From UCI machine learning library [LINK](https://archive.ics.uci.edu/ml/datasets/Contraceptive+Method+Choice)"
   ]
  },
  {
   "cell_type": "code",
   "execution_count": 1,
   "metadata": {},
   "outputs": [
    {
     "data": {
      "text/html": [
       "<div>\n",
       "<style>\n",
       "    .dataframe thead tr:only-child th {\n",
       "        text-align: right;\n",
       "    }\n",
       "\n",
       "    .dataframe thead th {\n",
       "        text-align: left;\n",
       "    }\n",
       "\n",
       "    .dataframe tbody tr th {\n",
       "        vertical-align: top;\n",
       "    }\n",
       "</style>\n",
       "<table border=\"1\" class=\"dataframe\">\n",
       "  <thead>\n",
       "    <tr style=\"text-align: right;\">\n",
       "      <th></th>\n",
       "      <th>wifeage</th>\n",
       "      <th>wifeedu</th>\n",
       "      <th>husedu</th>\n",
       "      <th>numchild</th>\n",
       "      <th>religion</th>\n",
       "      <th>wifework</th>\n",
       "      <th>husjob</th>\n",
       "      <th>living</th>\n",
       "      <th>media</th>\n",
       "      <th>method</th>\n",
       "    </tr>\n",
       "  </thead>\n",
       "  <tbody>\n",
       "    <tr>\n",
       "      <th>0</th>\n",
       "      <td>24</td>\n",
       "      <td>2</td>\n",
       "      <td>3</td>\n",
       "      <td>3</td>\n",
       "      <td>1</td>\n",
       "      <td>1</td>\n",
       "      <td>2</td>\n",
       "      <td>3</td>\n",
       "      <td>0</td>\n",
       "      <td>1</td>\n",
       "    </tr>\n",
       "    <tr>\n",
       "      <th>1</th>\n",
       "      <td>45</td>\n",
       "      <td>1</td>\n",
       "      <td>3</td>\n",
       "      <td>10</td>\n",
       "      <td>1</td>\n",
       "      <td>1</td>\n",
       "      <td>3</td>\n",
       "      <td>4</td>\n",
       "      <td>0</td>\n",
       "      <td>1</td>\n",
       "    </tr>\n",
       "    <tr>\n",
       "      <th>2</th>\n",
       "      <td>43</td>\n",
       "      <td>2</td>\n",
       "      <td>3</td>\n",
       "      <td>7</td>\n",
       "      <td>1</td>\n",
       "      <td>1</td>\n",
       "      <td>3</td>\n",
       "      <td>4</td>\n",
       "      <td>0</td>\n",
       "      <td>1</td>\n",
       "    </tr>\n",
       "    <tr>\n",
       "      <th>3</th>\n",
       "      <td>42</td>\n",
       "      <td>3</td>\n",
       "      <td>2</td>\n",
       "      <td>9</td>\n",
       "      <td>1</td>\n",
       "      <td>1</td>\n",
       "      <td>3</td>\n",
       "      <td>3</td>\n",
       "      <td>0</td>\n",
       "      <td>1</td>\n",
       "    </tr>\n",
       "    <tr>\n",
       "      <th>4</th>\n",
       "      <td>36</td>\n",
       "      <td>3</td>\n",
       "      <td>3</td>\n",
       "      <td>8</td>\n",
       "      <td>1</td>\n",
       "      <td>1</td>\n",
       "      <td>3</td>\n",
       "      <td>2</td>\n",
       "      <td>0</td>\n",
       "      <td>1</td>\n",
       "    </tr>\n",
       "  </tbody>\n",
       "</table>\n",
       "</div>"
      ],
      "text/plain": [
       "   wifeage  wifeedu  husedu  numchild  religion  wifework  husjob  living  \\\n",
       "0       24        2       3         3         1         1       2       3   \n",
       "1       45        1       3        10         1         1       3       4   \n",
       "2       43        2       3         7         1         1       3       4   \n",
       "3       42        3       2         9         1         1       3       3   \n",
       "4       36        3       3         8         1         1       3       2   \n",
       "\n",
       "   media  method  \n",
       "0      0       1  \n",
       "1      0       1  \n",
       "2      0       1  \n",
       "3      0       1  \n",
       "4      0       1  "
      ]
     },
     "execution_count": 1,
     "metadata": {},
     "output_type": "execute_result"
    }
   ],
   "source": [
    "import pandas as pd\n",
    "import requests\n",
    "\n",
    "contra=pd.read_csv('contraceptive_data.data', header=None)\n",
    "\n",
    "contra.columns = ['wifeage', 'wifeedu','husedu','numchild','religion','wifework','husjob','living','media','method']\n",
    "contra.head()"
   ]
  },
  {
   "cell_type": "markdown",
   "metadata": {},
   "source": [
    "From this information we can talk about our goal: to predict Method (or, type of contraceptive) given the features wifeage,  education, number of children, and etc. We can use pandas to show the three contraceptive types:"
   ]
  },
  {
   "cell_type": "code",
   "execution_count": 2,
   "metadata": {},
   "outputs": [
    {
     "name": "stdout",
     "output_type": "stream",
     "text": [
      "* contra types:\n",
      "[1 2 3]\n"
     ]
    }
   ],
   "source": [
    "print(\"* contra types:\", contra[\"method\"].unique(), sep=\"\\n\")"
   ]
  },
  {
   "cell_type": "markdown",
   "metadata": {},
   "source": [
    "Let's group the feature columns together"
   ]
  },
  {
   "cell_type": "code",
   "execution_count": 3,
   "metadata": {},
   "outputs": [
    {
     "name": "stdout",
     "output_type": "stream",
     "text": [
      "* features:\n",
      "['wifeage', 'wifeedu', 'husedu', 'numchild', 'religion', 'wifework', 'husjob', 'living', 'media']\n"
     ]
    }
   ],
   "source": [
    "features = list(contra.columns[:9])\n",
    "print(\"* features:\", features, sep=\"\\n\")  "
   ]
  },
  {
   "cell_type": "markdown",
   "metadata": {},
   "source": [
    "### Let's fit the decision tree\n",
    "source for this example\n",
    "http://stackabuse.com/decision-trees-in-python-with-scikit-learn/"
   ]
  },
  {
   "cell_type": "code",
   "execution_count": 4,
   "metadata": {
    "collapsed": true
   },
   "outputs": [],
   "source": [
    "from __future__ import print_function\n",
    "\n",
    "import os\n",
    "import subprocess\n",
    "import numpy as np\n",
    "import graphviz\n",
    "from sklearn.tree import DecisionTreeClassifier, export_graphviz"
   ]
  },
  {
   "cell_type": "markdown",
   "metadata": {},
   "source": [
    "We pull the X and y data from the pandas dataframe using simple indexing.\n",
    "The decision tree, imported at the start of the post, is initialized with two parameters: min_samples_split=20 requires 20 samples in a node for it to be split (this will make more sense when we see the result) and random_state=99 to seed the random number generator."
   ]
  },
  {
   "cell_type": "code",
   "execution_count": 5,
   "metadata": {},
   "outputs": [
    {
     "data": {
      "text/plain": [
       "DecisionTreeClassifier(class_weight=None, criterion='gini', max_depth=None,\n",
       "            max_features=None, max_leaf_nodes=None,\n",
       "            min_impurity_decrease=0.0, min_impurity_split=None,\n",
       "            min_samples_leaf=1, min_samples_split=10,\n",
       "            min_weight_fraction_leaf=0.0, presort=False, random_state=10,\n",
       "            splitter='best')"
      ]
     },
     "execution_count": 5,
     "metadata": {},
     "output_type": "execute_result"
    }
   ],
   "source": [
    "y = contra[\"method\"]\n",
    "X = contra[features]\n",
    "dt = DecisionTreeClassifier(min_samples_split=10, random_state=10)\n",
    "dt.fit(X, y)"
   ]
  },
  {
   "cell_type": "code",
   "execution_count": 6,
   "metadata": {
    "collapsed": true
   },
   "outputs": [],
   "source": [
    "def visualize_tree(tree, feature_names):\n",
    "    with open(\"dt.dot\", 'w') as f:\n",
    "        export_graphviz(tree, out_file=f,\n",
    "                        feature_names=feature_names)\n",
    "\n",
    "    command = [r\"C:\\Users\\SUE Kwon\\Anaconda3\\Library\\bin\\graphviz\\dot\", \"-Tpng\", \"dt.dot\", \"-o\", \"dt.png\"]\n",
    "    try:\n",
    "        subprocess.check_call(command)\n",
    "    except:\n",
    "        exit(\"Could not run dot, ie graphviz, to \"\n",
    "             \"produce visualization\")"
   ]
  },
  {
   "cell_type": "code",
   "execution_count": 28,
   "metadata": {
    "collapsed": true
   },
   "outputs": [],
   "source": [
    "visualize_tree(dt, features)"
   ]
  },
  {
   "cell_type": "markdown",
   "metadata": {},
   "source": [
    "## Let's make it smaller"
   ]
  },
  {
   "cell_type": "code",
   "execution_count": 7,
   "metadata": {
    "collapsed": true
   },
   "outputs": [],
   "source": [
    "ofeatures = list(contra[['wifeage','numchild','husjob']])\n",
    "oX = contra[ofeatures]\n",
    "odt = DecisionTreeClassifier(min_samples_split=20, random_state=42, max_depth=5)\n",
    "odt.fit(oX, y)\n",
    "\n",
    "def opt_tree(tree, feature_names):\n",
    "    with open(\"odt.dot\", 'w') as f:\n",
    "        export_graphviz(tree, out_file=f,\n",
    "                        feature_names=feature_names)\n",
    "\n",
    "    command = [r\"C:\\Users\\SUE Kwon\\Anaconda3\\Library\\bin\\graphviz\\dot\", \"-Tpng\", \"odt.dot\", \"-o\", \"odt.png\"]\n",
    "    try:\n",
    "        subprocess.check_call(command)\n",
    "    except:\n",
    "        exit(\"Could not run dot, ie graphviz, to \"\n",
    "             \"produce visualization\")\n",
    "opt_tree(odt, ofeatures)"
   ]
  },
  {
   "cell_type": "markdown",
   "metadata": {},
   "source": [
    "## Predict Class and Probability of samples"
   ]
  },
  {
   "cell_type": "code",
   "execution_count": 8,
   "metadata": {},
   "outputs": [
    {
     "data": {
      "text/plain": [
       "array([3, 1, 1, 1, 3, 1], dtype=int64)"
      ]
     },
     "execution_count": 8,
     "metadata": {},
     "output_type": "execute_result"
    }
   ],
   "source": [
    "mypd=odt.predict(oX)\n",
    "mypd[:6]"
   ]
  },
  {
   "cell_type": "code",
   "execution_count": 9,
   "metadata": {},
   "outputs": [
    {
     "data": {
      "text/plain": [
       "array([[ 0.26315789,  0.12280702,  0.61403509],\n",
       "       [ 0.9375    ,  0.0625    ,  0.        ],\n",
       "       [ 0.54651163,  0.22093023,  0.23255814],\n",
       "       [ 0.54651163,  0.22093023,  0.23255814],\n",
       "       [ 0.26984127,  0.23809524,  0.49206349],\n",
       "       [ 1.        ,  0.        ,  0.        ]])"
      ]
     },
     "execution_count": 9,
     "metadata": {},
     "output_type": "execute_result"
    }
   ],
   "source": [
    "mypro=odt.predict_proba(oX)\n",
    "mypro[:6]"
   ]
  },
  {
   "cell_type": "code",
   "execution_count": 10,
   "metadata": {},
   "outputs": [
    {
     "data": {
      "text/html": [
       "<div>\n",
       "<style>\n",
       "    .dataframe thead tr:only-child th {\n",
       "        text-align: right;\n",
       "    }\n",
       "\n",
       "    .dataframe thead th {\n",
       "        text-align: left;\n",
       "    }\n",
       "\n",
       "    .dataframe tbody tr th {\n",
       "        vertical-align: top;\n",
       "    }\n",
       "</style>\n",
       "<table border=\"1\" class=\"dataframe\">\n",
       "  <thead>\n",
       "    <tr style=\"text-align: right;\">\n",
       "      <th></th>\n",
       "      <th>wifeage</th>\n",
       "      <th>wifeedu</th>\n",
       "      <th>husedu</th>\n",
       "      <th>numchild</th>\n",
       "      <th>religion</th>\n",
       "      <th>wifework</th>\n",
       "      <th>husjob</th>\n",
       "      <th>living</th>\n",
       "      <th>media</th>\n",
       "      <th>method</th>\n",
       "    </tr>\n",
       "  </thead>\n",
       "  <tbody>\n",
       "    <tr>\n",
       "      <th>0</th>\n",
       "      <td>24</td>\n",
       "      <td>2</td>\n",
       "      <td>3</td>\n",
       "      <td>3</td>\n",
       "      <td>1</td>\n",
       "      <td>1</td>\n",
       "      <td>2</td>\n",
       "      <td>3</td>\n",
       "      <td>0</td>\n",
       "      <td>1</td>\n",
       "    </tr>\n",
       "    <tr>\n",
       "      <th>1</th>\n",
       "      <td>45</td>\n",
       "      <td>1</td>\n",
       "      <td>3</td>\n",
       "      <td>10</td>\n",
       "      <td>1</td>\n",
       "      <td>1</td>\n",
       "      <td>3</td>\n",
       "      <td>4</td>\n",
       "      <td>0</td>\n",
       "      <td>1</td>\n",
       "    </tr>\n",
       "    <tr>\n",
       "      <th>2</th>\n",
       "      <td>43</td>\n",
       "      <td>2</td>\n",
       "      <td>3</td>\n",
       "      <td>7</td>\n",
       "      <td>1</td>\n",
       "      <td>1</td>\n",
       "      <td>3</td>\n",
       "      <td>4</td>\n",
       "      <td>0</td>\n",
       "      <td>1</td>\n",
       "    </tr>\n",
       "    <tr>\n",
       "      <th>3</th>\n",
       "      <td>42</td>\n",
       "      <td>3</td>\n",
       "      <td>2</td>\n",
       "      <td>9</td>\n",
       "      <td>1</td>\n",
       "      <td>1</td>\n",
       "      <td>3</td>\n",
       "      <td>3</td>\n",
       "      <td>0</td>\n",
       "      <td>1</td>\n",
       "    </tr>\n",
       "    <tr>\n",
       "      <th>4</th>\n",
       "      <td>36</td>\n",
       "      <td>3</td>\n",
       "      <td>3</td>\n",
       "      <td>8</td>\n",
       "      <td>1</td>\n",
       "      <td>1</td>\n",
       "      <td>3</td>\n",
       "      <td>2</td>\n",
       "      <td>0</td>\n",
       "      <td>1</td>\n",
       "    </tr>\n",
       "    <tr>\n",
       "      <th>5</th>\n",
       "      <td>19</td>\n",
       "      <td>4</td>\n",
       "      <td>4</td>\n",
       "      <td>0</td>\n",
       "      <td>1</td>\n",
       "      <td>1</td>\n",
       "      <td>3</td>\n",
       "      <td>3</td>\n",
       "      <td>0</td>\n",
       "      <td>1</td>\n",
       "    </tr>\n",
       "  </tbody>\n",
       "</table>\n",
       "</div>"
      ],
      "text/plain": [
       "   wifeage  wifeedu  husedu  numchild  religion  wifework  husjob  living  \\\n",
       "0       24        2       3         3         1         1       2       3   \n",
       "1       45        1       3        10         1         1       3       4   \n",
       "2       43        2       3         7         1         1       3       4   \n",
       "3       42        3       2         9         1         1       3       3   \n",
       "4       36        3       3         8         1         1       3       2   \n",
       "5       19        4       4         0         1         1       3       3   \n",
       "\n",
       "   media  method  \n",
       "0      0       1  \n",
       "1      0       1  \n",
       "2      0       1  \n",
       "3      0       1  \n",
       "4      0       1  \n",
       "5      0       1  "
      ]
     },
     "execution_count": 10,
     "metadata": {},
     "output_type": "execute_result"
    }
   ],
   "source": [
    "contra[:6]"
   ]
  },
  {
   "cell_type": "markdown",
   "metadata": {},
   "source": [
    "### Calculate Percent Accuracy"
   ]
  },
  {
   "cell_type": "code",
   "execution_count": 14,
   "metadata": {},
   "outputs": [
    {
     "data": {
      "text/plain": [
       "55.39714867617108"
      ]
     },
     "execution_count": 14,
     "metadata": {},
     "output_type": "execute_result"
    }
   ],
   "source": [
    "fullpd=odt.predict(oX)\n",
    "num=0\n",
    "acc=0\n",
    "tot=0\n",
    "for row in contra['method']:\n",
    "    if row==fullpd[num]:\n",
    "        acc+=1\n",
    "    num+=1\n",
    "    tot+=1\n",
    "perAcc=acc*100/tot\n",
    "perAcc"
   ]
  },
  {
   "cell_type": "code",
   "execution_count": 19,
   "metadata": {},
   "outputs": [
    {
     "data": {
      "text/plain": [
       "<matplotlib.axes._subplots.AxesSubplot at 0x17c9ef3c860>"
      ]
     },
     "execution_count": 19,
     "metadata": {},
     "output_type": "execute_result"
    },
    {
     "data": {
      "image/png": "[encoded data removed]",
      "text/plain": [
       "<matplotlib.figure.Figure at 0x17c9ef3c748>"
      ]
     },
     "metadata": {},
     "output_type": "display_data"
    }
   ],
   "source": [
    "import matplotlib.pyplot as plt\n",
    "%matplotlib inline\n",
    "\n",
    "plt.figure();\n",
    "contra['method'].hist()\n"
   ]
  },
  {
   "cell_type": "code",
   "execution_count": null,
   "metadata": {
    "collapsed": true
   },
   "outputs": [],
   "source": []
  }
 ],
 "metadata": {
  "kernelspec": {
   "display_name": "Python 3",
   "language": "python",
   "name": "python3"
  },
  "language_info": {
   "codemirror_mode": {
    "name": "ipython",
    "version": 3
   },
   "file_extension": ".py",
   "mimetype": "text/x-python",
   "name": "python",
   "nbconvert_exporter": "python",
   "pygments_lexer": "ipython3",
   "version": "3.6.3"
  }
 },
 "nbformat": 4,
 "nbformat_minor": 2
}
